{
 "cells": [
  {
   "cell_type": "markdown",
   "metadata": {},
   "source": [
    "# python metodos  numericos\n",
    "    1.METODO DE NEWTON(RESOLUCION DE ECUACIONES DIFERENCIALES)\n",
    "    2.METODO DE EULER(RESOLUCION DE ECUACIONES DIFERENCIALES)\n",
    "    3.VALOR DE FRONTERA\n",
    "        3.1MÉTODO DE DISPARO(SHOOTING METHOD)\n",
    "        3.2SHOTING LINEAL\n",
    "        3.3SHOTTING NO LINEAL\n",
    "    4.DIFERENCIAS FINITAS\n",
    "        4.1 DIFERENCIAS FINITAS LINEALES\n",
    "        4.2 DIFERENCIAS FINITAS LINEALES(OTRO ENFOQUE)\n",
    "        4.3 DIFERENCIAS FINITIAS (CENTRADAS)-NEWTON\n",
    "        4.4 DIFERENCIA FINISTAS NO LINEALES (EXISTENCIA SOLUCION)\n",
    "        \n",
    "    \n",
    "       "
   ]
  },
  {
   "cell_type": "code",
   "execution_count": 9,
   "metadata": {},
   "outputs": [
    {
     "data": {
      "text/plain": [
       "[20, 30]"
      ]
     },
     "execution_count": 9,
     "metadata": {},
     "output_type": "execute_result"
    }
   ],
   "source": [
    "lista=[10,20,30,40,50]\n",
    "\n",
    "def suma(x):\n",
    "    return x;\n",
    "def resta(y):\n",
    "    return y;\n",
    "\n",
    "x=20\n",
    "y=30\n",
    "vectorz=[suma(x),resta(y)]\n",
    "vectorz\n",
    "\n",
    "\n",
    "\n"
   ]
  },
  {
   "cell_type": "markdown",
   "metadata": {},
   "source": []
  },
  {
   "cell_type": "code",
   "execution_count": null,
   "metadata": {},
   "outputs": [],
   "source": []
  }
 ],
 "metadata": {
  "kernelspec": {
   "display_name": "Python 3",
   "language": "python",
   "name": "python3"
  },
  "language_info": {
   "codemirror_mode": {
    "name": "ipython",
    "version": 3
   },
   "file_extension": ".py",
   "mimetype": "text/x-python",
   "name": "python",
   "nbconvert_exporter": "python",
   "pygments_lexer": "ipython3",
   "version": "3.8.5"
  }
 },
 "nbformat": 4,
 "nbformat_minor": 4
}
